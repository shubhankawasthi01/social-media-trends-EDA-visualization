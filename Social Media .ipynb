{
 "cells": [
  {
   "cell_type": "markdown",
   "metadata": {
    "id": "j-KA8shDddzk"
   },
   "source": [
    "# Importing data and taking a quick look at it."
   ]
  },
  {
   "cell_type": "code",
   "execution_count": 20,
   "metadata": {
    "executionInfo": {
     "elapsed": 14,
     "status": "ok",
     "timestamp": 1755194163166,
     "user": {
      "displayName": "Shubhank Awasthi",
      "userId": "02832407537159410408"
     },
     "user_tz": -330
    },
    "id": "Yt9f1g9acvCb"
   },
   "outputs": [],
   "source": [
    "#importing the required libraries.\n",
    "import warnings\n",
    "warnings.filterwarnings('ignore')\n",
    "import numpy as np\n",
    "import pandas as pd\n",
    "import matplotlib.pyplot as plt\n",
    "import seaborn as sns\n",
    "import plotly.express as px"
   ]
  },
  {
   "cell_type": "code",
   "execution_count": 21,
   "metadata": {
    "colab": {
     "base_uri": "https://localhost:8080/",
     "height": 380
    },
    "executionInfo": {
     "elapsed": 39,
     "status": "ok",
     "timestamp": 1755194163222,
     "user": {
      "displayName": "Shubhank Awasthi",
      "userId": "02832407537159410408"
     },
     "user_tz": -330
    },
    "id": "b25byvDxdE30",
    "outputId": "baee0280-84a2-414c-a2f6-b2db9ac8c122"
   },
   "outputs": [
    {
     "data": {
      "text/html": [
       "<div>\n",
       "<style scoped>\n",
       "    .dataframe tbody tr th:only-of-type {\n",
       "        vertical-align: middle;\n",
       "    }\n",
       "\n",
       "    .dataframe tbody tr th {\n",
       "        vertical-align: top;\n",
       "    }\n",
       "\n",
       "    .dataframe thead th {\n",
       "        text-align: right;\n",
       "    }\n",
       "</style>\n",
       "<table border=\"1\" class=\"dataframe\">\n",
       "  <thead>\n",
       "    <tr style=\"text-align: right;\">\n",
       "      <th></th>\n",
       "      <th>post_id</th>\n",
       "      <th>platform</th>\n",
       "      <th>post_type</th>\n",
       "      <th>post_time</th>\n",
       "      <th>likes</th>\n",
       "      <th>comments</th>\n",
       "      <th>shares</th>\n",
       "      <th>post_day</th>\n",
       "      <th>sentiment_score</th>\n",
       "    </tr>\n",
       "  </thead>\n",
       "  <tbody>\n",
       "    <tr>\n",
       "      <th>0</th>\n",
       "      <td>1</td>\n",
       "      <td>Facebook</td>\n",
       "      <td>image</td>\n",
       "      <td>8/17/2023 14:45</td>\n",
       "      <td>2121</td>\n",
       "      <td>474</td>\n",
       "      <td>628</td>\n",
       "      <td>Thursday</td>\n",
       "      <td>positive</td>\n",
       "    </tr>\n",
       "    <tr>\n",
       "      <th>1</th>\n",
       "      <td>2</td>\n",
       "      <td>Facebook</td>\n",
       "      <td>carousel</td>\n",
       "      <td>5/14/2023 0:45</td>\n",
       "      <td>3660</td>\n",
       "      <td>432</td>\n",
       "      <td>694</td>\n",
       "      <td>Sunday</td>\n",
       "      <td>neutral</td>\n",
       "    </tr>\n",
       "    <tr>\n",
       "      <th>2</th>\n",
       "      <td>3</td>\n",
       "      <td>Instagram</td>\n",
       "      <td>poll</td>\n",
       "      <td>2/21/2023 16:15</td>\n",
       "      <td>4955</td>\n",
       "      <td>408</td>\n",
       "      <td>688</td>\n",
       "      <td>Tuesday</td>\n",
       "      <td>negative</td>\n",
       "    </tr>\n",
       "    <tr>\n",
       "      <th>3</th>\n",
       "      <td>4</td>\n",
       "      <td>Twitter</td>\n",
       "      <td>image</td>\n",
       "      <td>11/16/2023 0:45</td>\n",
       "      <td>1183</td>\n",
       "      <td>90</td>\n",
       "      <td>187</td>\n",
       "      <td>Thursday</td>\n",
       "      <td>negative</td>\n",
       "    </tr>\n",
       "    <tr>\n",
       "      <th>4</th>\n",
       "      <td>5</td>\n",
       "      <td>Twitter</td>\n",
       "      <td>video</td>\n",
       "      <td>5/23/2023 0:30</td>\n",
       "      <td>3499</td>\n",
       "      <td>247</td>\n",
       "      <td>286</td>\n",
       "      <td>Tuesday</td>\n",
       "      <td>positive</td>\n",
       "    </tr>\n",
       "    <tr>\n",
       "      <th>5</th>\n",
       "      <td>6</td>\n",
       "      <td>Instagram</td>\n",
       "      <td>carousel</td>\n",
       "      <td>5/5/2023 20:00</td>\n",
       "      <td>256</td>\n",
       "      <td>186</td>\n",
       "      <td>211</td>\n",
       "      <td>Friday</td>\n",
       "      <td>neutral</td>\n",
       "    </tr>\n",
       "    <tr>\n",
       "      <th>6</th>\n",
       "      <td>7</td>\n",
       "      <td>Instagram</td>\n",
       "      <td>image</td>\n",
       "      <td>2/26/2023 11:45</td>\n",
       "      <td>1982</td>\n",
       "      <td>30</td>\n",
       "      <td>906</td>\n",
       "      <td>Sunday</td>\n",
       "      <td>positive</td>\n",
       "    </tr>\n",
       "    <tr>\n",
       "      <th>7</th>\n",
       "      <td>8</td>\n",
       "      <td>Instagram</td>\n",
       "      <td>text</td>\n",
       "      <td>10/28/2023 19:30</td>\n",
       "      <td>1274</td>\n",
       "      <td>45</td>\n",
       "      <td>216</td>\n",
       "      <td>Saturday</td>\n",
       "      <td>neutral</td>\n",
       "    </tr>\n",
       "    <tr>\n",
       "      <th>8</th>\n",
       "      <td>9</td>\n",
       "      <td>Facebook</td>\n",
       "      <td>video</td>\n",
       "      <td>5/2/2023 6:15</td>\n",
       "      <td>317</td>\n",
       "      <td>249</td>\n",
       "      <td>221</td>\n",
       "      <td>Tuesday</td>\n",
       "      <td>neutral</td>\n",
       "    </tr>\n",
       "    <tr>\n",
       "      <th>9</th>\n",
       "      <td>10</td>\n",
       "      <td>Twitter</td>\n",
       "      <td>carousel</td>\n",
       "      <td>5/11/2023 11:00</td>\n",
       "      <td>1878</td>\n",
       "      <td>225</td>\n",
       "      <td>438</td>\n",
       "      <td>Thursday</td>\n",
       "      <td>neutral</td>\n",
       "    </tr>\n",
       "  </tbody>\n",
       "</table>\n",
       "</div>"
      ],
      "text/plain": [
       "   post_id   platform post_type         post_time  likes  comments  shares  \\\n",
       "0        1   Facebook     image   8/17/2023 14:45   2121       474     628   \n",
       "1        2   Facebook  carousel    5/14/2023 0:45   3660       432     694   \n",
       "2        3  Instagram      poll   2/21/2023 16:15   4955       408     688   \n",
       "3        4    Twitter     image   11/16/2023 0:45   1183        90     187   \n",
       "4        5    Twitter     video    5/23/2023 0:30   3499       247     286   \n",
       "5        6  Instagram  carousel    5/5/2023 20:00    256       186     211   \n",
       "6        7  Instagram     image   2/26/2023 11:45   1982        30     906   \n",
       "7        8  Instagram      text  10/28/2023 19:30   1274        45     216   \n",
       "8        9   Facebook     video     5/2/2023 6:15    317       249     221   \n",
       "9       10    Twitter  carousel   5/11/2023 11:00   1878       225     438   \n",
       "\n",
       "   post_day sentiment_score  \n",
       "0  Thursday        positive  \n",
       "1    Sunday         neutral  \n",
       "2   Tuesday        negative  \n",
       "3  Thursday        negative  \n",
       "4   Tuesday        positive  \n",
       "5    Friday         neutral  \n",
       "6    Sunday        positive  \n",
       "7  Saturday         neutral  \n",
       "8   Tuesday         neutral  \n",
       "9  Thursday         neutral  "
      ]
     },
     "execution_count": 21,
     "metadata": {},
     "output_type": "execute_result"
    }
   ],
   "source": [
    "#loading the dataset\n",
    "dataset = pd.read_csv('/Users/apple/DATA NOTEBOOKS/social_media_engagement1.csv')\n",
    "dataset.head(10)"
   ]
  },
  {
   "cell_type": "markdown",
   "metadata": {
    "id": "FCrujl-gdjCd"
   },
   "source": [
    "# Cleaning the data"
   ]
  },
  {
   "cell_type": "code",
   "execution_count": 22,
   "metadata": {
    "colab": {
     "base_uri": "https://localhost:8080/",
     "height": 366
    },
    "executionInfo": {
     "elapsed": 243,
     "status": "ok",
     "timestamp": 1755194163522,
     "user": {
      "displayName": "Shubhank Awasthi",
      "userId": "02832407537159410408"
     },
     "user_tz": -330
    },
    "id": "FhiNS4gVdUJP",
    "outputId": "65c1b0f8-eb6d-4841-9b70-bf5e445c1e01"
   },
   "outputs": [
    {
     "data": {
      "text/plain": [
       "post_id            0\n",
       "platform           0\n",
       "post_type          0\n",
       "post_time          0\n",
       "likes              0\n",
       "comments           0\n",
       "shares             0\n",
       "post_day           0\n",
       "sentiment_score    0\n",
       "dtype: int64"
      ]
     },
     "execution_count": 22,
     "metadata": {},
     "output_type": "execute_result"
    }
   ],
   "source": [
    "dataset.isna().sum()"
   ]
  },
  {
   "cell_type": "markdown",
   "metadata": {
    "id": "SyeXY--NeN2r"
   },
   "source": [
    "*No null values in any of the columns.*"
   ]
  },
  {
   "cell_type": "code",
   "execution_count": 23,
   "metadata": {
    "colab": {
     "base_uri": "https://localhost:8080/",
     "height": 366
    },
    "executionInfo": {
     "elapsed": 92,
     "status": "ok",
     "timestamp": 1755194163659,
     "user": {
      "displayName": "Shubhank Awasthi",
      "userId": "02832407537159410408"
     },
     "user_tz": -330
    },
    "id": "KYpZs0wzeW88",
    "outputId": "a8eef290-038c-4fa9-de33-16cb5ed61391"
   },
   "outputs": [
    {
     "data": {
      "text/plain": [
       "post_id             int64\n",
       "platform           object\n",
       "post_type          object\n",
       "post_time          object\n",
       "likes               int64\n",
       "comments            int64\n",
       "shares              int64\n",
       "post_day           object\n",
       "sentiment_score    object\n",
       "dtype: object"
      ]
     },
     "execution_count": 23,
     "metadata": {},
     "output_type": "execute_result"
    }
   ],
   "source": [
    "dataset.dtypes"
   ]
  },
  {
   "cell_type": "markdown",
   "metadata": {
    "id": "spxv7B5-e8lt"
   },
   "source": [
    "The column 'post_time' should be date time datatype."
   ]
  },
  {
   "cell_type": "code",
   "execution_count": 24,
   "metadata": {
    "executionInfo": {
     "elapsed": 6,
     "status": "ok",
     "timestamp": 1755194163667,
     "user": {
      "displayName": "Shubhank Awasthi",
      "userId": "02832407537159410408"
     },
     "user_tz": -330
    },
    "id": "l3mVctDUevnK"
   },
   "outputs": [],
   "source": [
    "dataset['post_time'] = pd.to_datetime(dataset['post_time'])"
   ]
  },
  {
   "cell_type": "code",
   "execution_count": 25,
   "metadata": {
    "colab": {
     "base_uri": "https://localhost:8080/",
     "height": 366
    },
    "executionInfo": {
     "elapsed": 7,
     "status": "ok",
     "timestamp": 1755194163680,
     "user": {
      "displayName": "Shubhank Awasthi",
      "userId": "02832407537159410408"
     },
     "user_tz": -330
    },
    "id": "J0PBoPJOggsX",
    "outputId": "c9b1390c-7f81-4340-8bc8-d05e3130c366"
   },
   "outputs": [
    {
     "data": {
      "text/plain": [
       "post_id                     int64\n",
       "platform                   object\n",
       "post_type                  object\n",
       "post_time          datetime64[ns]\n",
       "likes                       int64\n",
       "comments                    int64\n",
       "shares                      int64\n",
       "post_day                   object\n",
       "sentiment_score            object\n",
       "dtype: object"
      ]
     },
     "execution_count": 25,
     "metadata": {},
     "output_type": "execute_result"
    }
   ],
   "source": [
    "dataset.dtypes"
   ]
  },
  {
   "cell_type": "markdown",
   "metadata": {
    "id": "CCZTH5QCg2XT"
   },
   "source": [
    "`Extracting hour from post_time column so as to analyse the impact of time of posting on the overall performance of a post. `"
   ]
  },
  {
   "cell_type": "code",
   "execution_count": 26,
   "metadata": {
    "executionInfo": {
     "elapsed": 18,
     "status": "ok",
     "timestamp": 1755194163700,
     "user": {
      "displayName": "Shubhank Awasthi",
      "userId": "02832407537159410408"
     },
     "user_tz": -330
    },
    "id": "FOnGytywgjA5"
   },
   "outputs": [],
   "source": [
    "dataset['hour'] = dataset['post_time'].dt.hour"
   ]
  },
  {
   "cell_type": "code",
   "execution_count": 27,
   "metadata": {
    "colab": {
     "base_uri": "https://localhost:8080/"
    },
    "executionInfo": {
     "elapsed": 20,
     "status": "ok",
     "timestamp": 1755194163707,
     "user": {
      "displayName": "Shubhank Awasthi",
      "userId": "02832407537159410408"
     },
     "user_tz": -330
    },
    "id": "qwpvNBiVgwQV",
    "outputId": "e0db9d8f-5622-40a9-ec99-993fe7936227"
   },
   "outputs": [
    {
     "name": "stdout",
     "output_type": "stream",
     "text": [
      "<class 'pandas.core.frame.DataFrame'>\n",
      "RangeIndex: 100 entries, 0 to 99\n",
      "Data columns (total 10 columns):\n",
      " #   Column           Non-Null Count  Dtype         \n",
      "---  ------           --------------  -----         \n",
      " 0   post_id          100 non-null    int64         \n",
      " 1   platform         100 non-null    object        \n",
      " 2   post_type        100 non-null    object        \n",
      " 3   post_time        100 non-null    datetime64[ns]\n",
      " 4   likes            100 non-null    int64         \n",
      " 5   comments         100 non-null    int64         \n",
      " 6   shares           100 non-null    int64         \n",
      " 7   post_day         100 non-null    object        \n",
      " 8   sentiment_score  100 non-null    object        \n",
      " 9   hour             100 non-null    int64         \n",
      "dtypes: datetime64[ns](1), int64(5), object(4)\n",
      "memory usage: 7.9+ KB\n"
     ]
    }
   ],
   "source": [
    "dataset.info()"
   ]
  },
  {
   "cell_type": "markdown",
   "metadata": {
    "id": "9bo1zP08hhR0"
   },
   "source": [
    "# Exploratory Data Analysis (EDA) and Engagement Score analysis for each platform."
   ]
  },
  {
   "cell_type": "code",
   "execution_count": 28,
   "metadata": {
    "colab": {
     "base_uri": "https://localhost:8080/",
     "height": 300
    },
    "executionInfo": {
     "elapsed": 32,
     "status": "ok",
     "timestamp": 1755194163740,
     "user": {
      "displayName": "Shubhank Awasthi",
      "userId": "02832407537159410408"
     },
     "user_tz": -330
    },
    "id": "ZulLCWF7h5J9",
    "outputId": "3ad43330-46b8-42dd-afce-fe210a904989"
   },
   "outputs": [
    {
     "data": {
      "text/html": [
       "<div>\n",
       "<style scoped>\n",
       "    .dataframe tbody tr th:only-of-type {\n",
       "        vertical-align: middle;\n",
       "    }\n",
       "\n",
       "    .dataframe tbody tr th {\n",
       "        vertical-align: top;\n",
       "    }\n",
       "\n",
       "    .dataframe thead th {\n",
       "        text-align: right;\n",
       "    }\n",
       "</style>\n",
       "<table border=\"1\" class=\"dataframe\">\n",
       "  <thead>\n",
       "    <tr style=\"text-align: right;\">\n",
       "      <th></th>\n",
       "      <th>post_id</th>\n",
       "      <th>likes</th>\n",
       "      <th>comments</th>\n",
       "      <th>shares</th>\n",
       "      <th>hour</th>\n",
       "    </tr>\n",
       "  </thead>\n",
       "  <tbody>\n",
       "    <tr>\n",
       "      <th>count</th>\n",
       "      <td>100.000000</td>\n",
       "      <td>100.000000</td>\n",
       "      <td>100.00000</td>\n",
       "      <td>100.000000</td>\n",
       "      <td>100.000000</td>\n",
       "    </tr>\n",
       "    <tr>\n",
       "      <th>mean</th>\n",
       "      <td>50.500000</td>\n",
       "      <td>2381.810000</td>\n",
       "      <td>202.66000</td>\n",
       "      <td>415.650000</td>\n",
       "      <td>11.020000</td>\n",
       "    </tr>\n",
       "    <tr>\n",
       "      <th>std</th>\n",
       "      <td>29.011492</td>\n",
       "      <td>1632.573284</td>\n",
       "      <td>138.84067</td>\n",
       "      <td>283.877601</td>\n",
       "      <td>7.072468</td>\n",
       "    </tr>\n",
       "    <tr>\n",
       "      <th>min</th>\n",
       "      <td>1.000000</td>\n",
       "      <td>15.000000</td>\n",
       "      <td>10.00000</td>\n",
       "      <td>16.000000</td>\n",
       "      <td>0.000000</td>\n",
       "    </tr>\n",
       "    <tr>\n",
       "      <th>25%</th>\n",
       "      <td>25.750000</td>\n",
       "      <td>895.750000</td>\n",
       "      <td>89.75000</td>\n",
       "      <td>183.000000</td>\n",
       "      <td>5.000000</td>\n",
       "    </tr>\n",
       "    <tr>\n",
       "      <th>50%</th>\n",
       "      <td>50.500000</td>\n",
       "      <td>2220.000000</td>\n",
       "      <td>171.00000</td>\n",
       "      <td>356.500000</td>\n",
       "      <td>11.000000</td>\n",
       "    </tr>\n",
       "    <tr>\n",
       "      <th>75%</th>\n",
       "      <td>75.250000</td>\n",
       "      <td>3593.250000</td>\n",
       "      <td>299.00000</td>\n",
       "      <td>689.500000</td>\n",
       "      <td>17.000000</td>\n",
       "    </tr>\n",
       "    <tr>\n",
       "      <th>max</th>\n",
       "      <td>100.000000</td>\n",
       "      <td>5000.000000</td>\n",
       "      <td>500.00000</td>\n",
       "      <td>993.000000</td>\n",
       "      <td>23.000000</td>\n",
       "    </tr>\n",
       "  </tbody>\n",
       "</table>\n",
       "</div>"
      ],
      "text/plain": [
       "          post_id        likes   comments      shares        hour\n",
       "count  100.000000   100.000000  100.00000  100.000000  100.000000\n",
       "mean    50.500000  2381.810000  202.66000  415.650000   11.020000\n",
       "std     29.011492  1632.573284  138.84067  283.877601    7.072468\n",
       "min      1.000000    15.000000   10.00000   16.000000    0.000000\n",
       "25%     25.750000   895.750000   89.75000  183.000000    5.000000\n",
       "50%     50.500000  2220.000000  171.00000  356.500000   11.000000\n",
       "75%     75.250000  3593.250000  299.00000  689.500000   17.000000\n",
       "max    100.000000  5000.000000  500.00000  993.000000   23.000000"
      ]
     },
     "execution_count": 28,
     "metadata": {},
     "output_type": "execute_result"
    }
   ],
   "source": [
    "dataset.describe()"
   ]
  },
  {
   "cell_type": "code",
   "execution_count": 29,
   "metadata": {
    "colab": {
     "base_uri": "https://localhost:8080/",
     "height": 472
    },
    "executionInfo": {
     "elapsed": 325,
     "status": "ok",
     "timestamp": 1755195026244,
     "user": {
      "displayName": "Shubhank Awasthi",
      "userId": "02832407537159410408"
     },
     "user_tz": -330
    },
    "id": "ZaNTnKL1iDW0",
    "outputId": "d9104874-09aa-469c-acb2-56265780d794"
   },
   "outputs": [
    {
     "data": {
      "image/png": "[encoded data removed]",
      "text/plain": [
       "<Figure size 432x288 with 1 Axes>"
      ]
     },
     "metadata": {
      "needs_background": "light"
     },
     "output_type": "display_data"
    }
   ],
   "source": [
    "dataset_grouped_platform = dataset.groupby(['platform', 'post_type'])\\\n",
    " [['likes', 'shares', 'comments']].sum().reset_index()\n",
    "dataset_grouped_platform['engagement'] = dataset_grouped_platform['likes'] + dataset_grouped_platform['shares'] + dataset_grouped_platform['comments']\n",
    "sns.barplot(data=dataset_grouped_platform, x='platform', y='engagement', hue='post_type')\n",
    "plt.title('Total Engagement by Platform and Post Type')\n",
    "plt.show()"
   ]
  },
  {
   "cell_type": "markdown",
   "metadata": {
    "id": "au-QXqNA0Qn1"
   },
   "source": [
    "\n",
    "\n",
    "```\n",
    "TOP 3 post type for each social media site:\n",
    "Facebook and Twitter: Carousel, Video and Text\n",
    "Instagram: Video, Carousel and Image\n",
    "```\n",
    "\n"
   ]
  },
  {
   "cell_type": "code",
   "execution_count": 30,
   "metadata": {
    "colab": {
     "base_uri": "https://localhost:8080/",
     "height": 472
    },
    "executionInfo": {
     "elapsed": 203,
     "status": "ok",
     "timestamp": 1755195858530,
     "user": {
      "displayName": "Shubhank Awasthi",
      "userId": "02832407537159410408"
     },
     "user_tz": -330
    },
    "id": "XGVHESNOjW2Q",
    "outputId": "e2f0b8bc-c65d-4f37-9c21-aeb5df39885e"
   },
   "outputs": [
    {
     "data": {
      "image/png": "[encoded data removed]",
      "text/plain": [
       "<Figure size 432x288 with 1 Axes>"
      ]
     },
     "metadata": {
      "needs_background": "light"
     },
     "output_type": "display_data"
    }
   ],
   "source": [
    "sns.boxplot(x='platform', y='engagement', data=dataset_grouped_platform)\n",
    "plt.title('Engagement by Platform')\n",
    "plt.xlabel('Platform')\n",
    "plt.ylabel('Engagement')\n",
    "plt.show()"
   ]
  },
  {
   "cell_type": "markdown",
   "metadata": {
    "id": "eqeNlXfIkZ47"
   },
   "source": [
    "`The only outlier in the above data is from the Instagram platform of the post type text.\n",
    "This is understandable as Instagram is primarily used for sharing photos and videos.\n",
    "Mean engagement of Instagram being the highest.`"
   ]
  },
  {
   "cell_type": "code",
   "execution_count": 31,
   "metadata": {
    "colab": {
     "base_uri": "https://localhost:8080/",
     "height": 472
    },
    "executionInfo": {
     "elapsed": 219,
     "status": "ok",
     "timestamp": 1755195964047,
     "user": {
      "displayName": "Shubhank Awasthi",
      "userId": "02832407537159410408"
     },
     "user_tz": -330
    },
    "id": "Vjjzqvwek3e6",
    "outputId": "48e6815c-9539-4c03-a11e-c38757234b9e"
   },
   "outputs": [
    {
     "data": {
      "image/png": "[encoded data removed]",
      "text/plain": [
       "<Figure size 432x288 with 1 Axes>"
      ]
     },
     "metadata": {
      "needs_background": "light"
     },
     "output_type": "display_data"
    }
   ],
   "source": [
    "sorted_data = dataset['post_type'].value_counts().index\n",
    "sns.countplot(x='post_type', data=dataset, order=sorted_data, hue='platform')\n",
    "plt.title('Count of Post Types')\n",
    "plt.show()"
   ]
  },
  {
   "cell_type": "markdown",
   "metadata": {
    "id": "3iFWJ7ronVWv"
   },
   "source": [
    "*Investigating further into the engagement for each post type on each platform we can observe that carousel and video post have significantly better engagement score than the other post types.*"
   ]
  },
  {
   "cell_type": "code",
   "execution_count": 32,
   "metadata": {
    "colab": {
     "base_uri": "https://localhost:8080/",
     "height": 472
    },
    "executionInfo": {
     "elapsed": 474,
     "status": "ok",
     "timestamp": 1755196558513,
     "user": {
      "displayName": "Shubhank Awasthi",
      "userId": "02832407537159410408"
     },
     "user_tz": -330
    },
    "id": "gjXtZ0M6Vb9N",
    "outputId": "dad8edb7-b17f-4046-e32a-1f5cea1e0e7e"
   },
   "outputs": [
    {
     "data": {
      "image/png": "[encoded data removed]",
      "text/plain": [
       "<Figure size 432x288 with 1 Axes>"
      ]
     },
     "metadata": {
      "needs_background": "light"
     },
     "output_type": "display_data"
    }
   ],
   "source": [
    "dataset_grouped_hour = dataset.groupby(['platform', 'hour'])[['likes', 'comments', 'shares']].sum().reset_index()\n",
    "dataset_grouped_hour['engagement'] = dataset_grouped_hour['likes'] + dataset_grouped_hour['comments'] + dataset_grouped_hour['shares']\n",
    "dataset_grouped_hour = dataset_grouped_hour.sort_values(by='engagement', ascending=False)\n",
    "sns.lineplot(x='hour', y='engagement', data=dataset_grouped_hour, hue='platform')\n",
    "plt.title('Total Engagement by Hour for each platform')\n",
    "plt.show()"
   ]
  },
  {
   "cell_type": "code",
   "execution_count": 33,
   "metadata": {
    "colab": {
     "base_uri": "https://localhost:8080/",
     "height": 452
    },
    "executionInfo": {
     "elapsed": 270,
     "status": "ok",
     "timestamp": 1755196874944,
     "user": {
      "displayName": "Shubhank Awasthi",
      "userId": "02832407537159410408"
     },
     "user_tz": -330
    },
    "id": "NDEj97RAYGBt",
    "outputId": "7cc3f90b-3707-4075-9b02-bfb64558ed4c"
   },
   "outputs": [
    {
     "data": {
      "image/png": "[encoded data removed]",
      "text/plain": [
       "<Figure size 432x288 with 2 Axes>"
      ]
     },
     "metadata": {
      "needs_background": "light"
     },
     "output_type": "display_data"
    }
   ],
   "source": [
    "#Finding corelation between engagement scores and time of the data.\n",
    "correlation_matrix = dataset_grouped_hour[['hour', 'likes', 'shares', 'comments']].corr()\n",
    "\n",
    "# Create heatmap\n",
    "sns.heatmap(correlation_matrix, annot=True, cmap='coolwarm', vmin=-1, vmax=1)\n",
    "plt.title('Correlation Heatmap: Hour vs Engagement')\n",
    "plt.show()\n"
   ]
  },
  {
   "cell_type": "markdown",
   "metadata": {
    "id": "mrQ_P2q4aDaa"
   },
   "source": [
    "***There is not a strong corelation between hour of the day and engagement.\n",
    "Let us look if the day of the week has any impact on the engagement scores.***"
   ]
  },
  {
   "cell_type": "code",
   "execution_count": 34,
   "metadata": {
    "colab": {
     "base_uri": "https://localhost:8080/",
     "height": 525
    },
    "executionInfo": {
     "elapsed": 243,
     "status": "ok",
     "timestamp": 1755196736252,
     "user": {
      "displayName": "Shubhank Awasthi",
      "userId": "02832407537159410408"
     },
     "user_tz": -330
    },
    "id": "RhWxkJNpaWeg",
    "outputId": "454e0b6e-f12c-418b-b03a-0ff5f669e7da"
   },
   "outputs": [
    {
     "data": {
      "image/png": "[encoded data removed]",
      "text/plain": [
       "<Figure size 432x288 with 1 Axes>"
      ]
     },
     "metadata": {
      "needs_background": "light"
     },
     "output_type": "display_data"
    }
   ],
   "source": [
    "from sys import platform\n",
    "dataset_grouped_dow = dataset.groupby(['platform', 'post_day'])[['likes', 'comments', 'shares']].sum().reset_index()\n",
    "dataset_grouped_dow['engagement'] = dataset_grouped_hour['likes'] + dataset_grouped_hour['comments'] + dataset_grouped_hour['shares']\n",
    "dataset_grouped_dow = dataset_grouped_dow.sort_values(by='engagement', ascending=False)\n",
    "sns.barplot(x='post_day', y='engagement', data=dataset_grouped_dow, ci=None, hue='platform')\n",
    "plt.title('Total Engagement by Post day')\n",
    "plt.xlabel('Post day')\n",
    "plt.ylabel('Engagement')\n",
    "plt.xticks(rotation=45)\n",
    "plt.show()"
   ]
  },
  {
   "cell_type": "markdown",
   "metadata": {
    "id": "BplRwvYGcfZc"
   },
   "source": [
    "*Maximum engagement is observed in Facebook on Friday, in Twitter on Thursday and in Instagram on Wednesday.*"
   ]
  },
  {
   "cell_type": "markdown",
   "metadata": {
    "id": "XOsbko6UdVL9"
   },
   "source": [
    "# Sentiment and Engagement Analysis."
   ]
  },
  {
   "cell_type": "code",
   "execution_count": 35,
   "metadata": {
    "colab": {
     "base_uri": "https://localhost:8080/",
     "height": 519
    },
    "executionInfo": {
     "elapsed": 66,
     "status": "ok",
     "timestamp": 1755196991456,
     "user": {
      "displayName": "Shubhank Awasthi",
      "userId": "02832407537159410408"
     },
     "user_tz": -330
    },
    "id": "_y8-LMY4dY7a",
    "outputId": "38953063-8f60-4ceb-ee98-d8d40094858f"
   },
   "outputs": [
    {
     "data": {
      "image/png": "[encoded data removed]",
      "text/plain": [
       "<Figure size 432x288 with 1 Axes>"
      ]
     },
     "metadata": {
      "needs_background": "light"
     },
     "output_type": "display_data"
    }
   ],
   "source": [
    "sentiment_analysis = dataset.groupby('sentiment_score')[['likes', 'comments', 'shares']].sum()\n",
    "sentiment_analysis['engagement'] = sentiment_analysis.sum(axis=1)\n",
    "sentiment_analysis['engagement'].plot(kind='bar')\n",
    "plt.title('Engagement by Sentiment')\n",
    "plt.show()"
   ]
  },
  {
   "cell_type": "code",
   "execution_count": 36,
   "metadata": {
    "colab": {
     "base_uri": "https://localhost:8080/",
     "height": 472
    },
    "executionInfo": {
     "elapsed": 446,
     "status": "ok",
     "timestamp": 1755197041704,
     "user": {
      "displayName": "Shubhank Awasthi",
      "userId": "02832407537159410408"
     },
     "user_tz": -330
    },
    "id": "H1_b4c86qb4o",
    "outputId": "c9d9c27d-a92a-444e-a3f6-39679875fa02"
   },
   "outputs": [
    {
     "data": {
      "image/png": "[encoded data removed]",
      "text/plain": [
       "<Figure size 432x288 with 1 Axes>"
      ]
     },
     "metadata": {
      "needs_background": "light"
     },
     "output_type": "display_data"
    }
   ],
   "source": [
    "#Calculating engagement for each post type on different social media platforms.\n",
    "dataset_grouped_smedia = dataset.groupby(['platform','post_type','sentiment_score'])[['likes', 'comments', 'shares']].sum().reset_index()\n",
    "dataset_grouped_smedia['engagement'] = dataset_grouped_smedia['likes'] + dataset_grouped_smedia['comments'] + dataset_grouped_smedia['shares']\n",
    "sns.barplot(data=dataset_grouped_smedia, x='platform', y='engagement', hue='sentiment_score', ci=None)\n",
    "plt.title('Total Engagement by Platform and Sentiment Score')\n",
    "plt.xlabel('Platform')\n",
    "plt.ylabel('Engagement')\n",
    "plt.show()"
   ]
  },
  {
   "cell_type": "code",
   "execution_count": 37,
   "metadata": {
    "colab": {
     "base_uri": "https://localhost:8080/",
     "height": 542
    },
    "executionInfo": {
     "elapsed": 855,
     "status": "ok",
     "timestamp": 1755197098129,
     "user": {
      "displayName": "Shubhank Awasthi",
      "userId": "02832407537159410408"
     },
     "user_tz": -330
    },
    "id": "s_RGD4TTs6L5",
    "outputId": "344f975a-1b75-44c2-fec5-c2aff5eb4232"
   },
   "outputs": [
    {
     "data": {
      "application/vnd.plotly.v1+json": {
       "config": {
        "plotlyServerURL": "https://plot.ly"
       },
       "data": [
        {
         "alignmentgroup": "True",
         "customdata": [
          [
           "Facebook"
          ],
          [
           "Facebook"
          ],
          [
           "Facebook"
          ],
          [
           "Instagram"
          ],
          [
           "Instagram"
          ],
          [
           "Instagram"
          ],
          [
           "Twitter"
          ],
          [
           "Twitter"
          ]
         ],
         "hovertemplate": "post_type=carousel<br>sentiment_score=%{x}<br>engagement=%{y}<br>platform=%{customdata[0]}<extra></extra>",
         "legendgroup": "carousel",
         "marker": {
          "color": "#636efa",
          "pattern": {
           "shape": ""
          }
         },
         "name": "carousel",
         "offsetgroup": "carousel",
         "orientation": "v",
         "showlegend": true,
         "textposition": "auto",
         "type": "bar",
         "x": [
          "negative",
          "neutral",
          "positive",
          "negative",
          "neutral",
          "positive",
          "neutral",
          "positive"
         ],
         "xaxis": "x",
         "y": [
          17177,
          7389,
          7014,
          9469,
          1959,
          18423,
          3663,
          13705
         ],
         "yaxis": "y"
        },
        {
         "alignmentgroup": "True",
         "customdata": [
          [
           "Facebook"
          ],
          [
           "Facebook"
          ],
          [
           "Instagram"
          ],
          [
           "Instagram"
          ],
          [
           "Instagram"
          ],
          [
           "Twitter"
          ],
          [
           "Twitter"
          ],
          [
           "Twitter"
          ]
         ],
         "hovertemplate": "post_type=image<br>sentiment_score=%{x}<br>engagement=%{y}<br>platform=%{customdata[0]}<extra></extra>",
         "legendgroup": "image",
         "marker": {
          "color": "#EF553B",
          "pattern": {
           "shape": ""
          }
         },
         "name": "image",
         "offsetgroup": "image",
         "orientation": "v",
         "showlegend": true,
         "textposition": "auto",
         "type": "bar",
         "x": [
          "negative",
          "positive",
          "negative",
          "neutral",
          "positive",
          "negative",
          "neutral",
          "positive"
         ],
         "xaxis": "x",
         "y": [
          1432,
          6034,
          11665,
          4865,
          12590,
          1460,
          4789,
          1390
         ],
         "yaxis": "y"
        },
        {
         "alignmentgroup": "True",
         "customdata": [
          [
           "Facebook"
          ],
          [
           "Facebook"
          ],
          [
           "Instagram"
          ],
          [
           "Instagram"
          ],
          [
           "Twitter"
          ],
          [
           "Twitter"
          ]
         ],
         "hovertemplate": "post_type=poll<br>sentiment_score=%{x}<br>engagement=%{y}<br>platform=%{customdata[0]}<extra></extra>",
         "legendgroup": "poll",
         "marker": {
          "color": "#00cc96",
          "pattern": {
           "shape": ""
          }
         },
         "name": "poll",
         "offsetgroup": "poll",
         "orientation": "v",
         "showlegend": true,
         "textposition": "auto",
         "type": "bar",
         "x": [
          "negative",
          "neutral",
          "negative",
          "positive",
          "neutral",
          "positive"
         ],
         "xaxis": "x",
         "y": [
          11985,
          2971,
          9598,
          16353,
          750,
          7046
         ],
         "yaxis": "y"
        },
        {
         "alignmentgroup": "True",
         "customdata": [
          [
           "Facebook"
          ],
          [
           "Facebook"
          ],
          [
           "Facebook"
          ],
          [
           "Instagram"
          ],
          [
           "Instagram"
          ],
          [
           "Instagram"
          ],
          [
           "Twitter"
          ],
          [
           "Twitter"
          ],
          [
           "Twitter"
          ]
         ],
         "hovertemplate": "post_type=text<br>sentiment_score=%{x}<br>engagement=%{y}<br>platform=%{customdata[0]}<extra></extra>",
         "legendgroup": "text",
         "marker": {
          "color": "#ab63fa",
          "pattern": {
           "shape": ""
          }
         },
         "name": "text",
         "offsetgroup": "text",
         "orientation": "v",
         "showlegend": true,
         "textposition": "auto",
         "type": "bar",
         "x": [
          "negative",
          "neutral",
          "positive",
          "negative",
          "neutral",
          "positive",
          "negative",
          "neutral",
          "positive"
         ],
         "xaxis": "x",
         "y": [
          4145,
          3238,
          11320,
          5370,
          4422,
          6518,
          1542,
          973,
          9273
         ],
         "yaxis": "y"
        },
        {
         "alignmentgroup": "True",
         "customdata": [
          [
           "Facebook"
          ],
          [
           "Facebook"
          ],
          [
           "Facebook"
          ],
          [
           "Instagram"
          ],
          [
           "Instagram"
          ],
          [
           "Instagram"
          ],
          [
           "Twitter"
          ],
          [
           "Twitter"
          ]
         ],
         "hovertemplate": "post_type=video<br>sentiment_score=%{x}<br>engagement=%{y}<br>platform=%{customdata[0]}<extra></extra>",
         "legendgroup": "video",
         "marker": {
          "color": "#FFA15A",
          "pattern": {
           "shape": ""
          }
         },
         "name": "video",
         "offsetgroup": "video",
         "orientation": "v",
         "showlegend": true,
         "textposition": "auto",
         "type": "bar",
         "x": [
          "negative",
          "neutral",
          "positive",
          "negative",
          "neutral",
          "positive",
          "neutral",
          "positive"
         ],
         "xaxis": "x",
         "y": [
          5248,
          17720,
          13864,
          18071,
          9767,
          6198,
          1517,
          9099
         ],
         "yaxis": "y"
        }
       ],
       "layout": {
        "barmode": "group",
        "legend": {
         "title": {
          "text": "post_type"
         },
         "tracegroupgap": 0
        },
        "template": {
         "data": {
          "bar": [
           {
            "error_x": {
             "color": "#2a3f5f"
            },
            "error_y": {
             "color": "#2a3f5f"
            },
            "marker": {
             "line": {
              "color": "#E5ECF6",
              "width": 0.5
             },
             "pattern": {
              "fillmode": "overlay",
              "size": 10,
              "solidity": 0.2
             }
            },
            "type": "bar"
           }
          ],
          "barpolar": [
           {
            "marker": {
             "line": {
              "color": "#E5ECF6",
              "width": 0.5
             },
             "pattern": {
              "fillmode": "overlay",
              "size": 10,
              "solidity": 0.2
             }
            },
            "type": "barpolar"
           }
          ],
          "carpet": [
           {
            "aaxis": {
             "endlinecolor": "#2a3f5f",
             "gridcolor": "white",
             "linecolor": "white",
             "minorgridcolor": "white",
             "startlinecolor": "#2a3f5f"
            },
            "baxis": {
             "endlinecolor": "#2a3f5f",
             "gridcolor": "white",
             "linecolor": "white",
             "minorgridcolor": "white",
             "startlinecolor": "#2a3f5f"
            },
            "type": "carpet"
           }
          ],
          "choropleth": [
           {
            "colorbar": {
             "outlinewidth": 0,
             "ticks": ""
            },
            "type": "choropleth"
           }
          ],
          "contour": [
           {
            "colorbar": {
             "outlinewidth": 0,
             "ticks": ""
            },
            "colorscale": [
             [
              0,
              "#0d0887"
             ],
             [
              0.1111111111111111,
              "#46039f"
             ],
             [
              0.2222222222222222,
              "#7201a8"
             ],
             [
              0.3333333333333333,
              "#9c179e"
             ],
             [
              0.4444444444444444,
              "#bd3786"
             ],
             [
              0.5555555555555556,
              "#d8576b"
             ],
             [
              0.6666666666666666,
              "#ed7953"
             ],
             [
              0.7777777777777778,
              "#fb9f3a"
             ],
             [
              0.8888888888888888,
              "#fdca26"
             ],
             [
              1,
              "#f0f921"
             ]
            ],
            "type": "contour"
           }
          ],
          "contourcarpet": [
           {
            "colorbar": {
             "outlinewidth": 0,
             "ticks": ""
            },
            "type": "contourcarpet"
           }
          ],
          "heatmap": [
           {
            "colorbar": {
             "outlinewidth": 0,
             "ticks": ""
            },
            "colorscale": [
             [
              0,
              "#0d0887"
             ],
             [
              0.1111111111111111,
              "#46039f"
             ],
             [
              0.2222222222222222,
              "#7201a8"
             ],
             [
              0.3333333333333333,
              "#9c179e"
             ],
             [
              0.4444444444444444,
              "#bd3786"
             ],
             [
              0.5555555555555556,
              "#d8576b"
             ],
             [
              0.6666666666666666,
              "#ed7953"
             ],
             [
              0.7777777777777778,
              "#fb9f3a"
             ],
             [
              0.8888888888888888,
              "#fdca26"
             ],
             [
              1,
              "#f0f921"
             ]
            ],
            "type": "heatmap"
           }
          ],
          "heatmapgl": [
           {
            "colorbar": {
             "outlinewidth": 0,
             "ticks": ""
            },
            "colorscale": [
             [
              0,
              "#0d0887"
             ],
             [
              0.1111111111111111,
              "#46039f"
             ],
             [
              0.2222222222222222,
              "#7201a8"
             ],
             [
              0.3333333333333333,
              "#9c179e"
             ],
             [
              0.4444444444444444,
              "#bd3786"
             ],
             [
              0.5555555555555556,
              "#d8576b"
             ],
             [
              0.6666666666666666,
              "#ed7953"
             ],
             [
              0.7777777777777778,
              "#fb9f3a"
             ],
             [
              0.8888888888888888,
              "#fdca26"
             ],
             [
              1,
              "#f0f921"
             ]
            ],
            "type": "heatmapgl"
           }
          ],
          "histogram": [
           {
            "marker": {
             "pattern": {
              "fillmode": "overlay",
              "size": 10,
              "solidity": 0.2
             }
            },
            "type": "histogram"
           }
          ],
          "histogram2d": [
           {
            "colorbar": {
             "outlinewidth": 0,
             "ticks": ""
            },
            "colorscale": [
             [
              0,
              "#0d0887"
             ],
             [
              0.1111111111111111,
              "#46039f"
             ],
             [
              0.2222222222222222,
              "#7201a8"
             ],
             [
              0.3333333333333333,
              "#9c179e"
             ],
             [
              0.4444444444444444,
              "#bd3786"
             ],
             [
              0.5555555555555556,
              "#d8576b"
             ],
             [
              0.6666666666666666,
              "#ed7953"
             ],
             [
              0.7777777777777778,
              "#fb9f3a"
             ],
             [
              0.8888888888888888,
              "#fdca26"
             ],
             [
              1,
              "#f0f921"
             ]
            ],
            "type": "histogram2d"
           }
          ],
          "histogram2dcontour": [
           {
            "colorbar": {
             "outlinewidth": 0,
             "ticks": ""
            },
            "colorscale": [
             [
              0,
              "#0d0887"
             ],
             [
              0.1111111111111111,
              "#46039f"
             ],
             [
              0.2222222222222222,
              "#7201a8"
             ],
             [
              0.3333333333333333,
              "#9c179e"
             ],
             [
              0.4444444444444444,
              "#bd3786"
             ],
             [
              0.5555555555555556,
              "#d8576b"
             ],
             [
              0.6666666666666666,
              "#ed7953"
             ],
             [
              0.7777777777777778,
              "#fb9f3a"
             ],
             [
              0.8888888888888888,
              "#fdca26"
             ],
             [
              1,
              "#f0f921"
             ]
            ],
            "type": "histogram2dcontour"
           }
          ],
          "mesh3d": [
           {
            "colorbar": {
             "outlinewidth": 0,
             "ticks": ""
            },
            "type": "mesh3d"
           }
          ],
          "parcoords": [
           {
            "line": {
             "colorbar": {
              "outlinewidth": 0,
              "ticks": ""
             }
            },
            "type": "parcoords"
           }
          ],
          "pie": [
           {
            "automargin": true,
            "type": "pie"
           }
          ],
          "scatter": [
           {
            "fillpattern": {
             "fillmode": "overlay",
             "size": 10,
             "solidity": 0.2
            },
            "type": "scatter"
           }
          ],
          "scatter3d": [
           {
            "line": {
             "colorbar": {
              "outlinewidth": 0,
              "ticks": ""
             }
            },
            "marker": {
             "colorbar": {
              "outlinewidth": 0,
              "ticks": ""
             }
            },
            "type": "scatter3d"
           }
          ],
          "scattercarpet": [
           {
            "marker": {
             "colorbar": {
              "outlinewidth": 0,
              "ticks": ""
             }
            },
            "type": "scattercarpet"
           }
          ],
          "scattergeo": [
           {
            "marker": {
             "colorbar": {
              "outlinewidth": 0,
              "ticks": ""
             }
            },
            "type": "scattergeo"
           }
          ],
          "scattergl": [
           {
            "marker": {
             "colorbar": {
              "outlinewidth": 0,
              "ticks": ""
             }
            },
            "type": "scattergl"
           }
          ],
          "scattermapbox": [
           {
            "marker": {
             "colorbar": {
              "outlinewidth": 0,
              "ticks": ""
             }
            },
            "type": "scattermapbox"
           }
          ],
          "scatterpolar": [
           {
            "marker": {
             "colorbar": {
              "outlinewidth": 0,
              "ticks": ""
             }
            },
            "type": "scatterpolar"
           }
          ],
          "scatterpolargl": [
           {
            "marker": {
             "colorbar": {
              "outlinewidth": 0,
              "ticks": ""
             }
            },
            "type": "scatterpolargl"
           }
          ],
          "scatterternary": [
           {
            "marker": {
             "colorbar": {
              "outlinewidth": 0,
              "ticks": ""
             }
            },
            "type": "scatterternary"
           }
          ],
          "surface": [
           {
            "colorbar": {
             "outlinewidth": 0,
             "ticks": ""
            },
            "colorscale": [
             [
              0,
              "#0d0887"
             ],
             [
              0.1111111111111111,
              "#46039f"
             ],
             [
              0.2222222222222222,
              "#7201a8"
             ],
             [
              0.3333333333333333,
              "#9c179e"
             ],
             [
              0.4444444444444444,
              "#bd3786"
             ],
             [
              0.5555555555555556,
              "#d8576b"
             ],
             [
              0.6666666666666666,
              "#ed7953"
             ],
             [
              0.7777777777777778,
              "#fb9f3a"
             ],
             [
              0.8888888888888888,
              "#fdca26"
             ],
             [
              1,
              "#f0f921"
             ]
            ],
            "type": "surface"
           }
          ],
          "table": [
           {
            "cells": {
             "fill": {
              "color": "#EBF0F8"
             },
             "line": {
              "color": "white"
             }
            },
            "header": {
             "fill": {
              "color": "#C8D4E3"
             },
             "line": {
              "color": "white"
             }
            },
            "type": "table"
           }
          ]
         },
         "layout": {
          "annotationdefaults": {
           "arrowcolor": "#2a3f5f",
           "arrowhead": 0,
           "arrowwidth": 1
          },
          "autotypenumbers": "strict",
          "coloraxis": {
           "colorbar": {
            "outlinewidth": 0,
            "ticks": ""
           }
          },
          "colorscale": {
           "diverging": [
            [
             0,
             "#8e0152"
            ],
            [
             0.1,
             "#c51b7d"
            ],
            [
             0.2,
             "#de77ae"
            ],
            [
             0.3,
             "#f1b6da"
            ],
            [
             0.4,
             "#fde0ef"
            ],
            [
             0.5,
             "#f7f7f7"
            ],
            [
             0.6,
             "#e6f5d0"
            ],
            [
             0.7,
             "#b8e186"
            ],
            [
             0.8,
             "#7fbc41"
            ],
            [
             0.9,
             "#4d9221"
            ],
            [
             1,
             "#276419"
            ]
           ],
           "sequential": [
            [
             0,
             "#0d0887"
            ],
            [
             0.1111111111111111,
             "#46039f"
            ],
            [
             0.2222222222222222,
             "#7201a8"
            ],
            [
             0.3333333333333333,
             "#9c179e"
            ],
            [
             0.4444444444444444,
             "#bd3786"
            ],
            [
             0.5555555555555556,
             "#d8576b"
            ],
            [
             0.6666666666666666,
             "#ed7953"
            ],
            [
             0.7777777777777778,
             "#fb9f3a"
            ],
            [
             0.8888888888888888,
             "#fdca26"
            ],
            [
             1,
             "#f0f921"
            ]
           ],
           "sequentialminus": [
            [
             0,
             "#0d0887"
            ],
            [
             0.1111111111111111,
             "#46039f"
            ],
            [
             0.2222222222222222,
             "#7201a8"
            ],
            [
             0.3333333333333333,
             "#9c179e"
            ],
            [
             0.4444444444444444,
             "#bd3786"
            ],
            [
             0.5555555555555556,
             "#d8576b"
            ],
            [
             0.6666666666666666,
             "#ed7953"
            ],
            [
             0.7777777777777778,
             "#fb9f3a"
            ],
            [
             0.8888888888888888,
             "#fdca26"
            ],
            [
             1,
             "#f0f921"
            ]
           ]
          },
          "colorway": [
           "#636efa",
           "#EF553B",
           "#00cc96",
           "#ab63fa",
           "#FFA15A",
           "#19d3f3",
           "#FF6692",
           "#B6E880",
           "#FF97FF",
           "#FECB52"
          ],
          "font": {
           "color": "#2a3f5f"
          },
          "geo": {
           "bgcolor": "white",
           "lakecolor": "white",
           "landcolor": "#E5ECF6",
           "showlakes": true,
           "showland": true,
           "subunitcolor": "white"
          },
          "hoverlabel": {
           "align": "left"
          },
          "hovermode": "closest",
          "mapbox": {
           "style": "light"
          },
          "paper_bgcolor": "white",
          "plot_bgcolor": "#E5ECF6",
          "polar": {
           "angularaxis": {
            "gridcolor": "white",
            "linecolor": "white",
            "ticks": ""
           },
           "bgcolor": "#E5ECF6",
           "radialaxis": {
            "gridcolor": "white",
            "linecolor": "white",
            "ticks": ""
           }
          },
          "scene": {
           "xaxis": {
            "backgroundcolor": "#E5ECF6",
            "gridcolor": "white",
            "gridwidth": 2,
            "linecolor": "white",
            "showbackground": true,
            "ticks": "",
            "zerolinecolor": "white"
           },
           "yaxis": {
            "backgroundcolor": "#E5ECF6",
            "gridcolor": "white",
            "gridwidth": 2,
            "linecolor": "white",
            "showbackground": true,
            "ticks": "",
            "zerolinecolor": "white"
           },
           "zaxis": {
            "backgroundcolor": "#E5ECF6",
            "gridcolor": "white",
            "gridwidth": 2,
            "linecolor": "white",
            "showbackground": true,
            "ticks": "",
            "zerolinecolor": "white"
           }
          },
          "shapedefaults": {
           "line": {
            "color": "#2a3f5f"
           }
          },
          "ternary": {
           "aaxis": {
            "gridcolor": "white",
            "linecolor": "white",
            "ticks": ""
           },
           "baxis": {
            "gridcolor": "white",
            "linecolor": "white",
            "ticks": ""
           },
           "bgcolor": "#E5ECF6",
           "caxis": {
            "gridcolor": "white",
            "linecolor": "white",
            "ticks": ""
           }
          },
          "title": {
           "x": 0.05
          },
          "xaxis": {
           "automargin": true,
           "gridcolor": "white",
           "linecolor": "white",
           "ticks": "",
           "title": {
            "standoff": 15
           },
           "zerolinecolor": "white",
           "zerolinewidth": 2
          },
          "yaxis": {
           "automargin": true,
           "gridcolor": "white",
           "linecolor": "white",
           "ticks": "",
           "title": {
            "standoff": 15
           },
           "zerolinecolor": "white",
           "zerolinewidth": 2
          }
         }
        },
        "title": {
         "text": "Total Engagement by Platform and Post Type"
        },
        "xaxis": {
         "anchor": "y",
         "domain": [
          0,
          1
         ],
         "title": {
          "text": "sentiment_score"
         }
        },
        "yaxis": {
         "anchor": "x",
         "domain": [
          0,
          1
         ],
         "title": {
          "text": "engagement"
         }
        }
       }
      },
      "text/html": [
       "<div>                            <div id=\"7e0dd217-5308-45cd-b0b0-8cb68056313c\" class=\"plotly-graph-div\" style=\"height:525px; width:100%;\"></div>            <script type=\"text/javascript\">                require([\"plotly\"], function(Plotly) {                    window.PLOTLYENV=window.PLOTLYENV || {};                                    if (document.getElementById(\"7e0dd217-5308-45cd-b0b0-8cb68056313c\")) {                    Plotly.newPlot(                        \"7e0dd217-5308-45cd-b0b0-8cb68056313c\",                        [{\"alignmentgroup\":\"True\",\"customdata\":[[\"Facebook\"],[\"Facebook\"],[\"Facebook\"],[\"Instagram\"],[\"Instagram\"],[\"Instagram\"],[\"Twitter\"],[\"Twitter\"]],\"hovertemplate\":\"post_type=carousel<br>sentiment_score=%{x}<br>engagement=%{y}<br>platform=%{customdata[0]}<extra></extra>\",\"legendgroup\":\"carousel\",\"marker\":{\"color\":\"#636efa\",\"pattern\":{\"shape\":\"\"}},\"name\":\"carousel\",\"offsetgroup\":\"carousel\",\"orientation\":\"v\",\"showlegend\":true,\"textposition\":\"auto\",\"x\":[\"negative\",\"neutral\",\"positive\",\"negative\",\"neutral\",\"positive\",\"neutral\",\"positive\"],\"xaxis\":\"x\",\"y\":[17177,7389,7014,9469,1959,18423,3663,13705],\"yaxis\":\"y\",\"type\":\"bar\"},{\"alignmentgroup\":\"True\",\"customdata\":[[\"Facebook\"],[\"Facebook\"],[\"Instagram\"],[\"Instagram\"],[\"Instagram\"],[\"Twitter\"],[\"Twitter\"],[\"Twitter\"]],\"hovertemplate\":\"post_type=image<br>sentiment_score=%{x}<br>engagement=%{y}<br>platform=%{customdata[0]}<extra></extra>\",\"legendgroup\":\"image\",\"marker\":{\"color\":\"#EF553B\",\"pattern\":{\"shape\":\"\"}},\"name\":\"image\",\"offsetgroup\":\"image\",\"orientation\":\"v\",\"showlegend\":true,\"textposition\":\"auto\",\"x\":[\"negative\",\"positive\",\"negative\",\"neutral\",\"positive\",\"negative\",\"neutral\",\"positive\"],\"xaxis\":\"x\",\"y\":[1432,6034,11665,4865,12590,1460,4789,1390],\"yaxis\":\"y\",\"type\":\"bar\"},{\"alignmentgroup\":\"True\",\"customdata\":[[\"Facebook\"],[\"Facebook\"],[\"Instagram\"],[\"Instagram\"],[\"Twitter\"],[\"Twitter\"]],\"hovertemplate\":\"post_type=poll<br>sentiment_score=%{x}<br>engagement=%{y}<br>platform=%{customdata[0]}<extra></extra>\",\"legendgroup\":\"poll\",\"marker\":{\"color\":\"#00cc96\",\"pattern\":{\"shape\":\"\"}},\"name\":\"poll\",\"offsetgroup\":\"poll\",\"orientation\":\"v\",\"showlegend\":true,\"textposition\":\"auto\",\"x\":[\"negative\",\"neutral\",\"negative\",\"positive\",\"neutral\",\"positive\"],\"xaxis\":\"x\",\"y\":[11985,2971,9598,16353,750,7046],\"yaxis\":\"y\",\"type\":\"bar\"},{\"alignmentgroup\":\"True\",\"customdata\":[[\"Facebook\"],[\"Facebook\"],[\"Facebook\"],[\"Instagram\"],[\"Instagram\"],[\"Instagram\"],[\"Twitter\"],[\"Twitter\"],[\"Twitter\"]],\"hovertemplate\":\"post_type=text<br>sentiment_score=%{x}<br>engagement=%{y}<br>platform=%{customdata[0]}<extra></extra>\",\"legendgroup\":\"text\",\"marker\":{\"color\":\"#ab63fa\",\"pattern\":{\"shape\":\"\"}},\"name\":\"text\",\"offsetgroup\":\"text\",\"orientation\":\"v\",\"showlegend\":true,\"textposition\":\"auto\",\"x\":[\"negative\",\"neutral\",\"positive\",\"negative\",\"neutral\",\"positive\",\"negative\",\"neutral\",\"positive\"],\"xaxis\":\"x\",\"y\":[4145,3238,11320,5370,4422,6518,1542,973,9273],\"yaxis\":\"y\",\"type\":\"bar\"},{\"alignmentgroup\":\"True\",\"customdata\":[[\"Facebook\"],[\"Facebook\"],[\"Facebook\"],[\"Instagram\"],[\"Instagram\"],[\"Instagram\"],[\"Twitter\"],[\"Twitter\"]],\"hovertemplate\":\"post_type=video<br>sentiment_score=%{x}<br>engagement=%{y}<br>platform=%{customdata[0]}<extra></extra>\",\"legendgroup\":\"video\",\"marker\":{\"color\":\"#FFA15A\",\"pattern\":{\"shape\":\"\"}},\"name\":\"video\",\"offsetgroup\":\"video\",\"orientation\":\"v\",\"showlegend\":true,\"textposition\":\"auto\",\"x\":[\"negative\",\"neutral\",\"positive\",\"negative\",\"neutral\",\"positive\",\"neutral\",\"positive\"],\"xaxis\":\"x\",\"y\":[5248,17720,13864,18071,9767,6198,1517,9099],\"yaxis\":\"y\",\"type\":\"bar\"}],                        {\"template\":{\"data\":{\"histogram2dcontour\":[{\"type\":\"histogram2dcontour\",\"colorbar\":{\"outlinewidth\":0,\"ticks\":\"\"},\"colorscale\":[[0.0,\"#0d0887\"],[0.1111111111111111,\"#46039f\"],[0.2222222222222222,\"#7201a8\"],[0.3333333333333333,\"#9c179e\"],[0.4444444444444444,\"#bd3786\"],[0.5555555555555556,\"#d8576b\"],[0.6666666666666666,\"#ed7953\"],[0.7777777777777778,\"#fb9f3a\"],[0.8888888888888888,\"#fdca26\"],[1.0,\"#f0f921\"]]}],\"choropleth\":[{\"type\":\"choropleth\",\"colorbar\":{\"outlinewidth\":0,\"ticks\":\"\"}}],\"histogram2d\":[{\"type\":\"histogram2d\",\"colorbar\":{\"outlinewidth\":0,\"ticks\":\"\"},\"colorscale\":[[0.0,\"#0d0887\"],[0.1111111111111111,\"#46039f\"],[0.2222222222222222,\"#7201a8\"],[0.3333333333333333,\"#9c179e\"],[0.4444444444444444,\"#bd3786\"],[0.5555555555555556,\"#d8576b\"],[0.6666666666666666,\"#ed7953\"],[0.7777777777777778,\"#fb9f3a\"],[0.8888888888888888,\"#fdca26\"],[1.0,\"#f0f921\"]]}],\"heatmap\":[{\"type\":\"heatmap\",\"colorbar\":{\"outlinewidth\":0,\"ticks\":\"\"},\"colorscale\":[[0.0,\"#0d0887\"],[0.1111111111111111,\"#46039f\"],[0.2222222222222222,\"#7201a8\"],[0.3333333333333333,\"#9c179e\"],[0.4444444444444444,\"#bd3786\"],[0.5555555555555556,\"#d8576b\"],[0.6666666666666666,\"#ed7953\"],[0.7777777777777778,\"#fb9f3a\"],[0.8888888888888888,\"#fdca26\"],[1.0,\"#f0f921\"]]}],\"heatmapgl\":[{\"type\":\"heatmapgl\",\"colorbar\":{\"outlinewidth\":0,\"ticks\":\"\"},\"colorscale\":[[0.0,\"#0d0887\"],[0.1111111111111111,\"#46039f\"],[0.2222222222222222,\"#7201a8\"],[0.3333333333333333,\"#9c179e\"],[0.4444444444444444,\"#bd3786\"],[0.5555555555555556,\"#d8576b\"],[0.6666666666666666,\"#ed7953\"],[0.7777777777777778,\"#fb9f3a\"],[0.8888888888888888,\"#fdca26\"],[1.0,\"#f0f921\"]]}],\"contourcarpet\":[{\"type\":\"contourcarpet\",\"colorbar\":{\"outlinewidth\":0,\"ticks\":\"\"}}],\"contour\":[{\"type\":\"contour\",\"colorbar\":{\"outlinewidth\":0,\"ticks\":\"\"},\"colorscale\":[[0.0,\"#0d0887\"],[0.1111111111111111,\"#46039f\"],[0.2222222222222222,\"#7201a8\"],[0.3333333333333333,\"#9c179e\"],[0.4444444444444444,\"#bd3786\"],[0.5555555555555556,\"#d8576b\"],[0.6666666666666666,\"#ed7953\"],[0.7777777777777778,\"#fb9f3a\"],[0.8888888888888888,\"#fdca26\"],[1.0,\"#f0f921\"]]}],\"surface\":[{\"type\":\"surface\",\"colorbar\":{\"outlinewidth\":0,\"ticks\":\"\"},\"colorscale\":[[0.0,\"#0d0887\"],[0.1111111111111111,\"#46039f\"],[0.2222222222222222,\"#7201a8\"],[0.3333333333333333,\"#9c179e\"],[0.4444444444444444,\"#bd3786\"],[0.5555555555555556,\"#d8576b\"],[0.6666666666666666,\"#ed7953\"],[0.7777777777777778,\"#fb9f3a\"],[0.8888888888888888,\"#fdca26\"],[1.0,\"#f0f921\"]]}],\"mesh3d\":[{\"type\":\"mesh3d\",\"colorbar\":{\"outlinewidth\":0,\"ticks\":\"\"}}],\"scatter\":[{\"fillpattern\":{\"fillmode\":\"overlay\",\"size\":10,\"solidity\":0.2},\"type\":\"scatter\"}],\"parcoords\":[{\"type\":\"parcoords\",\"line\":{\"colorbar\":{\"outlinewidth\":0,\"ticks\":\"\"}}}],\"scatterpolargl\":[{\"type\":\"scatterpolargl\",\"marker\":{\"colorbar\":{\"outlinewidth\":0,\"ticks\":\"\"}}}],\"bar\":[{\"error_x\":{\"color\":\"#2a3f5f\"},\"error_y\":{\"color\":\"#2a3f5f\"},\"marker\":{\"line\":{\"color\":\"#E5ECF6\",\"width\":0.5},\"pattern\":{\"fillmode\":\"overlay\",\"size\":10,\"solidity\":0.2}},\"type\":\"bar\"}],\"scattergeo\":[{\"type\":\"scattergeo\",\"marker\":{\"colorbar\":{\"outlinewidth\":0,\"ticks\":\"\"}}}],\"scatterpolar\":[{\"type\":\"scatterpolar\",\"marker\":{\"colorbar\":{\"outlinewidth\":0,\"ticks\":\"\"}}}],\"histogram\":[{\"marker\":{\"pattern\":{\"fillmode\":\"overlay\",\"size\":10,\"solidity\":0.2}},\"type\":\"histogram\"}],\"scattergl\":[{\"type\":\"scattergl\",\"marker\":{\"colorbar\":{\"outlinewidth\":0,\"ticks\":\"\"}}}],\"scatter3d\":[{\"type\":\"scatter3d\",\"line\":{\"colorbar\":{\"outlinewidth\":0,\"ticks\":\"\"}},\"marker\":{\"colorbar\":{\"outlinewidth\":0,\"ticks\":\"\"}}}],\"scattermapbox\":[{\"type\":\"scattermapbox\",\"marker\":{\"colorbar\":{\"outlinewidth\":0,\"ticks\":\"\"}}}],\"scatterternary\":[{\"type\":\"scatterternary\",\"marker\":{\"colorbar\":{\"outlinewidth\":0,\"ticks\":\"\"}}}],\"scattercarpet\":[{\"type\":\"scattercarpet\",\"marker\":{\"colorbar\":{\"outlinewidth\":0,\"ticks\":\"\"}}}],\"carpet\":[{\"aaxis\":{\"endlinecolor\":\"#2a3f5f\",\"gridcolor\":\"white\",\"linecolor\":\"white\",\"minorgridcolor\":\"white\",\"startlinecolor\":\"#2a3f5f\"},\"baxis\":{\"endlinecolor\":\"#2a3f5f\",\"gridcolor\":\"white\",\"linecolor\":\"white\",\"minorgridcolor\":\"white\",\"startlinecolor\":\"#2a3f5f\"},\"type\":\"carpet\"}],\"table\":[{\"cells\":{\"fill\":{\"color\":\"#EBF0F8\"},\"line\":{\"color\":\"white\"}},\"header\":{\"fill\":{\"color\":\"#C8D4E3\"},\"line\":{\"color\":\"white\"}},\"type\":\"table\"}],\"barpolar\":[{\"marker\":{\"line\":{\"color\":\"#E5ECF6\",\"width\":0.5},\"pattern\":{\"fillmode\":\"overlay\",\"size\":10,\"solidity\":0.2}},\"type\":\"barpolar\"}],\"pie\":[{\"automargin\":true,\"type\":\"pie\"}]},\"layout\":{\"autotypenumbers\":\"strict\",\"colorway\":[\"#636efa\",\"#EF553B\",\"#00cc96\",\"#ab63fa\",\"#FFA15A\",\"#19d3f3\",\"#FF6692\",\"#B6E880\",\"#FF97FF\",\"#FECB52\"],\"font\":{\"color\":\"#2a3f5f\"},\"hovermode\":\"closest\",\"hoverlabel\":{\"align\":\"left\"},\"paper_bgcolor\":\"white\",\"plot_bgcolor\":\"#E5ECF6\",\"polar\":{\"bgcolor\":\"#E5ECF6\",\"angularaxis\":{\"gridcolor\":\"white\",\"linecolor\":\"white\",\"ticks\":\"\"},\"radialaxis\":{\"gridcolor\":\"white\",\"linecolor\":\"white\",\"ticks\":\"\"}},\"ternary\":{\"bgcolor\":\"#E5ECF6\",\"aaxis\":{\"gridcolor\":\"white\",\"linecolor\":\"white\",\"ticks\":\"\"},\"baxis\":{\"gridcolor\":\"white\",\"linecolor\":\"white\",\"ticks\":\"\"},\"caxis\":{\"gridcolor\":\"white\",\"linecolor\":\"white\",\"ticks\":\"\"}},\"coloraxis\":{\"colorbar\":{\"outlinewidth\":0,\"ticks\":\"\"}},\"colorscale\":{\"sequential\":[[0.0,\"#0d0887\"],[0.1111111111111111,\"#46039f\"],[0.2222222222222222,\"#7201a8\"],[0.3333333333333333,\"#9c179e\"],[0.4444444444444444,\"#bd3786\"],[0.5555555555555556,\"#d8576b\"],[0.6666666666666666,\"#ed7953\"],[0.7777777777777778,\"#fb9f3a\"],[0.8888888888888888,\"#fdca26\"],[1.0,\"#f0f921\"]],\"sequentialminus\":[[0.0,\"#0d0887\"],[0.1111111111111111,\"#46039f\"],[0.2222222222222222,\"#7201a8\"],[0.3333333333333333,\"#9c179e\"],[0.4444444444444444,\"#bd3786\"],[0.5555555555555556,\"#d8576b\"],[0.6666666666666666,\"#ed7953\"],[0.7777777777777778,\"#fb9f3a\"],[0.8888888888888888,\"#fdca26\"],[1.0,\"#f0f921\"]],\"diverging\":[[0,\"#8e0152\"],[0.1,\"#c51b7d\"],[0.2,\"#de77ae\"],[0.3,\"#f1b6da\"],[0.4,\"#fde0ef\"],[0.5,\"#f7f7f7\"],[0.6,\"#e6f5d0\"],[0.7,\"#b8e186\"],[0.8,\"#7fbc41\"],[0.9,\"#4d9221\"],[1,\"#276419\"]]},\"xaxis\":{\"gridcolor\":\"white\",\"linecolor\":\"white\",\"ticks\":\"\",\"title\":{\"standoff\":15},\"zerolinecolor\":\"white\",\"automargin\":true,\"zerolinewidth\":2},\"yaxis\":{\"gridcolor\":\"white\",\"linecolor\":\"white\",\"ticks\":\"\",\"title\":{\"standoff\":15},\"zerolinecolor\":\"white\",\"automargin\":true,\"zerolinewidth\":2},\"scene\":{\"xaxis\":{\"backgroundcolor\":\"#E5ECF6\",\"gridcolor\":\"white\",\"linecolor\":\"white\",\"showbackground\":true,\"ticks\":\"\",\"zerolinecolor\":\"white\",\"gridwidth\":2},\"yaxis\":{\"backgroundcolor\":\"#E5ECF6\",\"gridcolor\":\"white\",\"linecolor\":\"white\",\"showbackground\":true,\"ticks\":\"\",\"zerolinecolor\":\"white\",\"gridwidth\":2},\"zaxis\":{\"backgroundcolor\":\"#E5ECF6\",\"gridcolor\":\"white\",\"linecolor\":\"white\",\"showbackground\":true,\"ticks\":\"\",\"zerolinecolor\":\"white\",\"gridwidth\":2}},\"shapedefaults\":{\"line\":{\"color\":\"#2a3f5f\"}},\"annotationdefaults\":{\"arrowcolor\":\"#2a3f5f\",\"arrowhead\":0,\"arrowwidth\":1},\"geo\":{\"bgcolor\":\"white\",\"landcolor\":\"#E5ECF6\",\"subunitcolor\":\"white\",\"showland\":true,\"showlakes\":true,\"lakecolor\":\"white\"},\"title\":{\"x\":0.05},\"mapbox\":{\"style\":\"light\"}}},\"xaxis\":{\"anchor\":\"y\",\"domain\":[0.0,1.0],\"title\":{\"text\":\"sentiment_score\"}},\"yaxis\":{\"anchor\":\"x\",\"domain\":[0.0,1.0],\"title\":{\"text\":\"engagement\"}},\"legend\":{\"title\":{\"text\":\"post_type\"},\"tracegroupgap\":0},\"title\":{\"text\":\"Total Engagement by Platform and Post Type\"},\"barmode\":\"group\"},                        {\"responsive\": true}                    ).then(function(){\n",
       "                            \n",
       "var gd = document.getElementById('7e0dd217-5308-45cd-b0b0-8cb68056313c');\n",
       "var x = new MutationObserver(function (mutations, observer) {{\n",
       "        var display = window.getComputedStyle(gd).display;\n",
       "        if (!display || display === 'none') {{\n",
       "            console.log([gd, 'removed!']);\n",
       "            Plotly.purge(gd);\n",
       "            observer.disconnect();\n",
       "        }}\n",
       "}});\n",
       "\n",
       "// Listen for the removal of the full notebook cells\n",
       "var notebookContainer = gd.closest('#notebook-container');\n",
       "if (notebookContainer) {{\n",
       "    x.observe(notebookContainer, {childList: true});\n",
       "}}\n",
       "\n",
       "// Listen for the clearing of the current output cell\n",
       "var outputEl = gd.closest('.output');\n",
       "if (outputEl) {{\n",
       "    x.observe(outputEl, {childList: true});\n",
       "}}\n",
       "\n",
       "                        })                };                });            </script>        </div>"
      ]
     },
     "metadata": {},
     "output_type": "display_data"
    }
   ],
   "source": [
    "fig = px.bar(dataset_grouped_smedia,\n",
    "             x='sentiment_score',\n",
    "             y='engagement',\n",
    "             color='post_type',\n",
    "             barmode='group',\n",
    "             title='Total Engagement by Platform and Post Type',\n",
    "             hover_data=['platform'])\n",
    "fig.show()"
   ]
  },
  {
   "cell_type": "markdown",
   "metadata": {
    "id": "P-9PCfG4gOEx"
   },
   "source": []
  }
 ],
 "metadata": {
  "colab": {
   "authorship_tag": "ABX9TyMHbRm2XhY+z6dC4GD4pAq4",
   "collapsed_sections": [
    "j-KA8shDddzk",
    "FCrujl-gdjCd"
   ],
   "provenance": []
  },
  "kernelspec": {
   "display_name": "Python 3",
   "language": "python",
   "name": "python3"
  },
  "language_info": {
   "codemirror_mode": {
    "name": "ipython",
    "version": 3
   },
   "file_extension": ".py",
   "mimetype": "text/x-python",
   "name": "python",
   "nbconvert_exporter": "python",
   "pygments_lexer": "ipython3",
   "version": "3.8.8"
  }
 },
 "nbformat": 4,
 "nbformat_minor": 1
}
